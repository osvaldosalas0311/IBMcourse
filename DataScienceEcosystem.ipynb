{
 "cells": [
  {
   "cell_type": "markdown",
   "id": "b8fc2cf7-d1e0-4b95-bd52-6995b55052dd",
   "metadata": {},
   "source": [
    "# Data Science Tools and Ecosystem"
   ]
  },
  {
   "cell_type": "markdown",
   "id": "01edc78a-5379-432b-bffd-36709b98200e",
   "metadata": {},
   "source": [
    "In this notebook, Data Science Tools and Ecosystem are summarized."
   ]
  },
  {
   "cell_type": "markdown",
   "id": "ecceabc5-ebf1-4866-b471-bd56da8541e8",
   "metadata": {},
   "source": [
    "**Objectives:**\n",
    "<ul>\n",
    "<li>List popular languages for Data Science</li>\n",
    "<li>Create markdown cells</li>\n",
    "<li>Provide details on APIs</li>\n",
    "<li>Add ordered and unordered lists to markdown cells</li>\n",
    "<li>SQL</li>\n",
    "</ul>"
   ]
  },
  {
   "cell_type": "markdown",
   "id": "90883c58-3697-473e-a07c-6881c8b1e797",
   "metadata": {},
   "source": [
    "## Author\n",
    "Osvaldo Salas"
   ]
  },
  {
   "cell_type": "markdown",
   "id": "e3b08bd4-7a25-42a5-be25-d8ea03659dcf",
   "metadata": {},
   "source": [
    "Some of the popular languages that Data Scientists use are:\n",
    "<ol>\n",
    "<li>Python</li>\n",
    "<li>R</li>\n",
    "<li>SQL</li>\n",
    "</ol>"
   ]
  },
  {
   "cell_type": "markdown",
   "id": "27e4f36a-5100-4abe-83d3-061c1302e509",
   "metadata": {},
   "source": [
    "Some of the commonly used libraries used by Data Scientists include:\n",
    "<ol>\n",
    "<li>Pandas</li>\n",
    "<li>NumPy</li>\n",
    "<li>Scikit-learn</li>\n",
    "</ol>"
   ]
  },
  {
   "cell_type": "markdown",
   "id": "d97a0b39-bec6-4605-a2e2-482dfec9943d",
   "metadata": {},
   "source": [
    "| Data Science Tools       |\n",
    "| ----------- |\n",
    "| Anaconda      |\n",
    "| Jupyter Notebook   |\n",
    "| R Studio   |"
   ]
  },
  {
   "cell_type": "markdown",
   "id": "597ce665-dcb8-4bc6-a956-fd51943a7d4e",
   "metadata": {},
   "source": [
    "### Below are a few examples of evaluating arithmetic expressions in Python"
   ]
  },
  {
   "cell_type": "code",
   "execution_count": 2,
   "id": "f3e92548-a5a0-445b-94ab-b45bf3e02d2e",
   "metadata": {},
   "outputs": [
    {
     "data": {
      "text/plain": [
       "17"
      ]
     },
     "execution_count": 2,
     "metadata": {},
     "output_type": "execute_result"
    }
   ],
   "source": [
    "#This a simple arithmetic expression to mutiply then add integers\n",
    "(3*4)+5"
   ]
  },
  {
   "cell_type": "code",
   "execution_count": 4,
   "id": "0f0a9f8e-0609-4d51-9164-6a650c11280d",
   "metadata": {},
   "outputs": [
    {
     "data": {
      "text/plain": [
       "3.3333333333333335"
      ]
     },
     "execution_count": 4,
     "metadata": {},
     "output_type": "execute_result"
    }
   ],
   "source": [
    "#This will convert 200 minutes to hours by diving by 60\n",
    "200/60"
   ]
  }
 ],
 "metadata": {
  "kernelspec": {
   "display_name": "Python 3 (ipykernel)",
   "language": "python",
   "name": "python3"
  },
  "language_info": {
   "codemirror_mode": {
    "name": "ipython",
    "version": 3
   },
   "file_extension": ".py",
   "mimetype": "text/x-python",
   "name": "python",
   "nbconvert_exporter": "python",
   "pygments_lexer": "ipython3",
   "version": "3.12.7"
  }
 },
 "nbformat": 4,
 "nbformat_minor": 5
}
